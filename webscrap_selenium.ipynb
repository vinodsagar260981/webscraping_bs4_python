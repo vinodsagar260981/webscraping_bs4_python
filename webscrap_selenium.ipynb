{
 "cells": [
  {
   "cell_type": "code",
   "execution_count": 1,
   "metadata": {},
   "outputs": [],
   "source": [
    "from selenium import webdriver\n",
    "from bs4 import BeautifulSoup\n",
    "from selenium.webdriver.common.by import By"
   ]
  },
  {
   "cell_type": "code",
   "execution_count": 4,
   "metadata": {},
   "outputs": [],
   "source": [
    "driver = webdriver.Chrome()\n",
    "driver.get('https://www.imdb.com/chart/top/?ref_=nv_mv_250')\n",
    "button = driver.find_element(By.ID, 'list-view-option-detailed')\n",
    "button.click()\n"
   ]
  },
  {
   "cell_type": "code",
   "execution_count": 5,
   "metadata": {},
   "outputs": [],
   "source": [
    "soup = BeautifulSoup(driver.page_source, 'html.parser')\n"
   ]
  },
  {
   "cell_type": "code",
   "execution_count": 6,
   "metadata": {},
   "outputs": [],
   "source": [
    "titles = []\n",
    "images = []\n",
    "years = []\n",
    "durations = []\n",
    "imdb_ratings = []\n",
    "descriptions = []"
   ]
  },
  {
   "cell_type": "code",
   "execution_count": 7,
   "metadata": {},
   "outputs": [
    {
     "name": "stdout",
     "output_type": "stream",
     "text": [
      "250\n"
     ]
    }
   ],
   "source": [
    "movie_list = soup.find_all('li', {'class': 'ipc-metadata-list-summary-item'})\n",
    "print(len(movie_list))"
   ]
  },
  {
   "cell_type": "code",
   "execution_count": 8,
   "metadata": {},
   "outputs": [],
   "source": [
    "movie_list = soup.find_all('li', {'class': 'ipc-metadata-list-summary-item'})\n",
    "for movie in movie_list:\n",
    "    title = movie.h3.text\n",
    "    titles.append(title) # type: ignore\n",
    "    \n",
    "    image = movie.img['src']\n",
    "    images.append(image) # type: ignore\n",
    "\n",
    "    year = movie.find_all('span',{'class': 'sc-b189961a-8 kLaxqf dli-title-metadata-item'})[0].text\n",
    "    years.append(year) # type: ignore\n",
    "    \n",
    "    duration = movie.find_all('span',{'class': 'sc-b189961a-8 kLaxqf dli-title-metadata-item'})[1].text\n",
    "    durations.append(duration) # type: ignore\n",
    "\n",
    "    imdb_rating = movie.find('span', {'class': 'ipc-rating-star ipc-rating-star--base ipc-rating-star--imdb ratingGroup--imdb-rating'}).text\n",
    "    imdb_ratings.append(imdb_rating) # type: ignore\n",
    "    \n",
    "    description = movie.find('div', {'class': 'ipc-html-content-inner-div'}).text\n",
    "    descriptions.append(description) # type: ignore\n"
   ]
  },
  {
   "cell_type": "code",
   "execution_count": 9,
   "metadata": {},
   "outputs": [
    {
     "name": "stdout",
     "output_type": "stream",
     "text": [
      "250\n"
     ]
    }
   ],
   "source": [
    "print(len(titles)) # type: ignore"
   ]
  },
  {
   "cell_type": "code",
   "execution_count": 10,
   "metadata": {},
   "outputs": [],
   "source": [
    "import pandas as pd"
   ]
  },
  {
   "cell_type": "code",
   "execution_count": 11,
   "metadata": {},
   "outputs": [
    {
     "data": {
      "text/html": [
       "<div>\n",
       "<style scoped>\n",
       "    .dataframe tbody tr th:only-of-type {\n",
       "        vertical-align: middle;\n",
       "    }\n",
       "\n",
       "    .dataframe tbody tr th {\n",
       "        vertical-align: top;\n",
       "    }\n",
       "\n",
       "    .dataframe thead th {\n",
       "        text-align: right;\n",
       "    }\n",
       "</style>\n",
       "<table border=\"1\" class=\"dataframe\">\n",
       "  <thead>\n",
       "    <tr style=\"text-align: right;\">\n",
       "      <th></th>\n",
       "      <th>Titles</th>\n",
       "      <th>Images</th>\n",
       "      <th>Years</th>\n",
       "      <th>Duration</th>\n",
       "      <th>Imdb Ratings</th>\n",
       "      <th>Descriptions</th>\n",
       "    </tr>\n",
       "  </thead>\n",
       "  <tbody>\n",
       "    <tr>\n",
       "      <th>0</th>\n",
       "      <td>1. The Shawshank Redemption</td>\n",
       "      <td>https://m.media-amazon.com/images/M/MV5BNDE3OD...</td>\n",
       "      <td>1994</td>\n",
       "      <td>2h 22m</td>\n",
       "      <td>9.3 (2.9M)</td>\n",
       "      <td>Over the course of several years, two convicts...</td>\n",
       "    </tr>\n",
       "    <tr>\n",
       "      <th>1</th>\n",
       "      <td>2. The Godfather</td>\n",
       "      <td>https://m.media-amazon.com/images/M/MV5BM2MyNj...</td>\n",
       "      <td>1972</td>\n",
       "      <td>2h 55m</td>\n",
       "      <td>9.2 (2M)</td>\n",
       "      <td>Don Vito Corleone, head of a mafia family, dec...</td>\n",
       "    </tr>\n",
       "    <tr>\n",
       "      <th>2</th>\n",
       "      <td>3. The Dark Knight</td>\n",
       "      <td>https://m.media-amazon.com/images/M/MV5BMTMxNT...</td>\n",
       "      <td>2008</td>\n",
       "      <td>2h 32m</td>\n",
       "      <td>9.0 (2.9M)</td>\n",
       "      <td>When the menace known as the Joker wreaks havo...</td>\n",
       "    </tr>\n",
       "    <tr>\n",
       "      <th>3</th>\n",
       "      <td>4. The Godfather Part II</td>\n",
       "      <td>https://m.media-amazon.com/images/M/MV5BMWMwMG...</td>\n",
       "      <td>1974</td>\n",
       "      <td>3h 22m</td>\n",
       "      <td>9.0 (1.4M)</td>\n",
       "      <td>The early life and career of Vito Corleone in ...</td>\n",
       "    </tr>\n",
       "    <tr>\n",
       "      <th>4</th>\n",
       "      <td>5. 12 Angry Men</td>\n",
       "      <td>https://m.media-amazon.com/images/M/MV5BMWU4N2...</td>\n",
       "      <td>1957</td>\n",
       "      <td>1h 36m</td>\n",
       "      <td>9.0 (873K)</td>\n",
       "      <td>The jury in a New York City murder trial is fr...</td>\n",
       "    </tr>\n",
       "    <tr>\n",
       "      <th>...</th>\n",
       "      <td>...</td>\n",
       "      <td>...</td>\n",
       "      <td>...</td>\n",
       "      <td>...</td>\n",
       "      <td>...</td>\n",
       "      <td>...</td>\n",
       "    </tr>\n",
       "    <tr>\n",
       "      <th>245</th>\n",
       "      <td>246. It Happened One Night</td>\n",
       "      <td>https://m.media-amazon.com/images/M/MV5BMDg5Mm...</td>\n",
       "      <td>1934</td>\n",
       "      <td>1h 45m</td>\n",
       "      <td>8.1 (113K)</td>\n",
       "      <td>A rogue reporter trailing a runaway heiress fo...</td>\n",
       "    </tr>\n",
       "    <tr>\n",
       "      <th>246</th>\n",
       "      <td>247. Drishyam</td>\n",
       "      <td>https://m.media-amazon.com/images/M/MV5BYmJhZm...</td>\n",
       "      <td>2015</td>\n",
       "      <td>2h 43m</td>\n",
       "      <td>8.2 (96K)</td>\n",
       "      <td>Desperate measures are taken by a man who trie...</td>\n",
       "    </tr>\n",
       "    <tr>\n",
       "      <th>247</th>\n",
       "      <td>248. Aladdin</td>\n",
       "      <td>https://m.media-amazon.com/images/M/MV5BZTg5ZT...</td>\n",
       "      <td>1992</td>\n",
       "      <td>1h 30m</td>\n",
       "      <td>8.0 (471K)</td>\n",
       "      <td>A kind-hearted street urchin and a power-hungr...</td>\n",
       "    </tr>\n",
       "    <tr>\n",
       "      <th>248</th>\n",
       "      <td>249. Dances with Wolves</td>\n",
       "      <td>https://m.media-amazon.com/images/M/MV5BMTY3OT...</td>\n",
       "      <td>1990</td>\n",
       "      <td>3h 1m</td>\n",
       "      <td>8.0 (293K)</td>\n",
       "      <td>Lieutenant John Dunbar, assigned to a remote w...</td>\n",
       "    </tr>\n",
       "    <tr>\n",
       "      <th>249</th>\n",
       "      <td>250. Paris, Texas</td>\n",
       "      <td>https://m.media-amazon.com/images/M/MV5BM2RjMm...</td>\n",
       "      <td>1984</td>\n",
       "      <td>2h 25m</td>\n",
       "      <td>8.1 (121K)</td>\n",
       "      <td>Travis Henderson, an aimless drifter who has b...</td>\n",
       "    </tr>\n",
       "  </tbody>\n",
       "</table>\n",
       "<p>250 rows × 6 columns</p>\n",
       "</div>"
      ],
      "text/plain": [
       "                          Titles  \\\n",
       "0    1. The Shawshank Redemption   \n",
       "1               2. The Godfather   \n",
       "2             3. The Dark Knight   \n",
       "3       4. The Godfather Part II   \n",
       "4                5. 12 Angry Men   \n",
       "..                           ...   \n",
       "245   246. It Happened One Night   \n",
       "246                247. Drishyam   \n",
       "247                 248. Aladdin   \n",
       "248      249. Dances with Wolves   \n",
       "249            250. Paris, Texas   \n",
       "\n",
       "                                                Images Years Duration  \\\n",
       "0    https://m.media-amazon.com/images/M/MV5BNDE3OD...  1994   2h 22m   \n",
       "1    https://m.media-amazon.com/images/M/MV5BM2MyNj...  1972   2h 55m   \n",
       "2    https://m.media-amazon.com/images/M/MV5BMTMxNT...  2008   2h 32m   \n",
       "3    https://m.media-amazon.com/images/M/MV5BMWMwMG...  1974   3h 22m   \n",
       "4    https://m.media-amazon.com/images/M/MV5BMWU4N2...  1957   1h 36m   \n",
       "..                                                 ...   ...      ...   \n",
       "245  https://m.media-amazon.com/images/M/MV5BMDg5Mm...  1934   1h 45m   \n",
       "246  https://m.media-amazon.com/images/M/MV5BYmJhZm...  2015   2h 43m   \n",
       "247  https://m.media-amazon.com/images/M/MV5BZTg5ZT...  1992   1h 30m   \n",
       "248  https://m.media-amazon.com/images/M/MV5BMTY3OT...  1990    3h 1m   \n",
       "249  https://m.media-amazon.com/images/M/MV5BM2RjMm...  1984   2h 25m   \n",
       "\n",
       "    Imdb Ratings                                       Descriptions  \n",
       "0     9.3 (2.9M)  Over the course of several years, two convicts...  \n",
       "1       9.2 (2M)  Don Vito Corleone, head of a mafia family, dec...  \n",
       "2     9.0 (2.9M)  When the menace known as the Joker wreaks havo...  \n",
       "3     9.0 (1.4M)  The early life and career of Vito Corleone in ...  \n",
       "4     9.0 (873K)  The jury in a New York City murder trial is fr...  \n",
       "..           ...                                                ...  \n",
       "245   8.1 (113K)  A rogue reporter trailing a runaway heiress fo...  \n",
       "246    8.2 (96K)  Desperate measures are taken by a man who trie...  \n",
       "247   8.0 (471K)  A kind-hearted street urchin and a power-hungr...  \n",
       "248   8.0 (293K)  Lieutenant John Dunbar, assigned to a remote w...  \n",
       "249   8.1 (121K)  Travis Henderson, an aimless drifter who has b...  \n",
       "\n",
       "[250 rows x 6 columns]"
      ]
     },
     "execution_count": 11,
     "metadata": {},
     "output_type": "execute_result"
    }
   ],
   "source": [
    "Data = pd.DataFrame({'Titles': titles, 'Images': images, 'Years': years, 'Duration': durations, 'Imdb Ratings': imdb_ratings, 'Descriptions' : descriptions})\n",
    "Data"
   ]
  },
  {
   "cell_type": "code",
   "execution_count": 13,
   "metadata": {},
   "outputs": [],
   "source": [
    "Data.to_csv('Imdb_Rating_Top_250.csv')"
   ]
  },
  {
   "cell_type": "code",
   "execution_count": null,
   "metadata": {},
   "outputs": [],
   "source": []
  }
 ],
 "metadata": {
  "kernelspec": {
   "display_name": "myenv",
   "language": "python",
   "name": "python3"
  },
  "language_info": {
   "codemirror_mode": {
    "name": "ipython",
    "version": 3
   },
   "file_extension": ".py",
   "mimetype": "text/x-python",
   "name": "python",
   "nbconvert_exporter": "python",
   "pygments_lexer": "ipython3",
   "version": "3.12.4"
  }
 },
 "nbformat": 4,
 "nbformat_minor": 2
}
