{
 "cells": [
  {
   "cell_type": "code",
   "execution_count": 18,
   "metadata": {},
   "outputs": [],
   "source": [
    "from selenium import webdriver\n",
    "from bs4 import BeautifulSoup\n",
    "from selenium.webdriver.common.by import By"
   ]
  },
  {
   "cell_type": "code",
   "execution_count": 19,
   "metadata": {},
   "outputs": [],
   "source": [
    "driver = webdriver.Chrome()\n",
    "driver.get(\"https://www.imdb.com/title/tt0111161/reviews?ref_=tt_urv\")\n"
   ]
  },
  {
   "cell_type": "code",
   "execution_count": 20,
   "metadata": {},
   "outputs": [],
   "source": [
    "soup = BeautifulSoup(driver.page_source, 'html.parser')\n"
   ]
  },
  {
   "cell_type": "code",
   "execution_count": 21,
   "metadata": {},
   "outputs": [],
   "source": [
    "review_count = int(soup.find('div', {'class':'header'}).span.text.split(' ')[0].replace(',',''))\n"
   ]
  },
  {
   "cell_type": "code",
   "execution_count": 22,
   "metadata": {},
   "outputs": [
    {
     "data": {
      "text/plain": [
       "444"
      ]
     },
     "execution_count": 22,
     "metadata": {},
     "output_type": "execute_result"
    }
   ],
   "source": [
    "iterations = int(review_count / 25)\n",
    "iterations"
   ]
  },
  {
   "cell_type": "code",
   "execution_count": 23,
   "metadata": {},
   "outputs": [],
   "source": [
    "import time\n",
    "from tqdm import tqdm"
   ]
  },
  {
   "cell_type": "code",
   "execution_count": 24,
   "metadata": {},
   "outputs": [
    {
     "name": "stderr",
     "output_type": "stream",
     "text": [
      "100%|██████████| 5/5 [00:35<00:00,  7.10s/it]\n"
     ]
    }
   ],
   "source": [
    "\n",
    "for i in tqdm(range(5)): # type: ignore\n",
    "    button = driver.find_element(By.ID, 'load-more-trigger')\n",
    "    button.click()\n",
    "    time.sleep(7) # type: ignore"
   ]
  },
  {
   "cell_type": "code",
   "execution_count": 25,
   "metadata": {},
   "outputs": [],
   "source": [
    "soup = BeautifulSoup(driver.page_source, 'html.parser')"
   ]
  },
  {
   "cell_type": "code",
   "execution_count": 26,
   "metadata": {},
   "outputs": [
    {
     "name": "stdout",
     "output_type": "stream",
     "text": [
      "149\n"
     ]
    }
   ],
   "source": [
    "review_list = soup.find_all('div', {'class':'lister-item-content'})\n",
    "print(len(review_list))"
   ]
  },
  {
   "cell_type": "code",
   "execution_count": 27,
   "metadata": {},
   "outputs": [],
   "source": [
    "titles = []\n",
    "users = []\n",
    "dates = []\n",
    "descriptions = []\n"
   ]
  },
  {
   "cell_type": "code",
   "execution_count": 28,
   "metadata": {},
   "outputs": [],
   "source": [
    "for review in review_list:\n",
    "    title = review.a.text.strip()\n",
    "    titles.append(title) # type: ignore\n",
    "    \n",
    "    user_name = review.find('span', {'class': 'display-name-link'}).text.strip()\n",
    "    users.append(user_name) # type: ignore\n",
    "    \n",
    "    date = review.find('span', {'class': 'review-date'}).text.strip()\n",
    "    dates.append(date) # type: ignore\n",
    "    \n",
    "    description = review.find('div', {'class': 'content'}).text.strip()\n",
    "    descriptions.append(description) # type: ignore\n",
    "    "
   ]
  },
  {
   "cell_type": "code",
   "execution_count": 30,
   "metadata": {},
   "outputs": [],
   "source": [
    "import pandas as pd"
   ]
  },
  {
   "cell_type": "code",
   "execution_count": 31,
   "metadata": {},
   "outputs": [
    {
     "data": {
      "text/html": [
       "<div>\n",
       "<style scoped>\n",
       "    .dataframe tbody tr th:only-of-type {\n",
       "        vertical-align: middle;\n",
       "    }\n",
       "\n",
       "    .dataframe tbody tr th {\n",
       "        vertical-align: top;\n",
       "    }\n",
       "\n",
       "    .dataframe thead th {\n",
       "        text-align: right;\n",
       "    }\n",
       "</style>\n",
       "<table border=\"1\" class=\"dataframe\">\n",
       "  <thead>\n",
       "    <tr style=\"text-align: right;\">\n",
       "      <th></th>\n",
       "      <th>titles</th>\n",
       "      <th>users</th>\n",
       "      <th>descriptions</th>\n",
       "      <th>dates</th>\n",
       "    </tr>\n",
       "  </thead>\n",
       "  <tbody>\n",
       "    <tr>\n",
       "      <th>0</th>\n",
       "      <td>Some birds aren't meant to be caged.</td>\n",
       "      <td>hitchcockthelegend</td>\n",
       "      <td>The Shawshank Redemption is written and direct...</td>\n",
       "      <td>24 July 2010</td>\n",
       "    </tr>\n",
       "    <tr>\n",
       "      <th>1</th>\n",
       "      <td>An incredible movie. One that lives with you.</td>\n",
       "      <td>Sleepin_Dragon</td>\n",
       "      <td>It is no wonder that the film has such a high ...</td>\n",
       "      <td>17 February 2021</td>\n",
       "    </tr>\n",
       "    <tr>\n",
       "      <th>2</th>\n",
       "      <td>Don't Rent Shawshank.</td>\n",
       "      <td>EyeDunno</td>\n",
       "      <td>I'm trying to save you money; this is the last...</td>\n",
       "      <td>21 November 2005</td>\n",
       "    </tr>\n",
       "    <tr>\n",
       "      <th>3</th>\n",
       "      <td>A classic piece of unforgettable film-making.</td>\n",
       "      <td>kaspen12</td>\n",
       "      <td>In its Oscar year, Shawshank Redemption (writt...</td>\n",
       "      <td>10 February 2006</td>\n",
       "    </tr>\n",
       "    <tr>\n",
       "      <th>4</th>\n",
       "      <td>This is How Movies Should Be Made</td>\n",
       "      <td>alexkolokotronis</td>\n",
       "      <td>This movie is not your ordinary Hollywood flic...</td>\n",
       "      <td>18 February 2008</td>\n",
       "    </tr>\n",
       "    <tr>\n",
       "      <th>...</th>\n",
       "      <td>...</td>\n",
       "      <td>...</td>\n",
       "      <td>...</td>\n",
       "      <td>...</td>\n",
       "    </tr>\n",
       "    <tr>\n",
       "      <th>144</th>\n",
       "      <td>A Sort of Secular Redemption</td>\n",
       "      <td>JamesHitchcock</td>\n",
       "      <td>The story of this film takes place over a twen...</td>\n",
       "      <td>13 March 2009</td>\n",
       "    </tr>\n",
       "    <tr>\n",
       "      <th>145</th>\n",
       "      <td>Beautiful movie</td>\n",
       "      <td>Calicodreamin</td>\n",
       "      <td>Quite deserving of such acclaim, the acting is...</td>\n",
       "      <td>5 March 2020</td>\n",
       "    </tr>\n",
       "    <tr>\n",
       "      <th>146</th>\n",
       "      <td>Delightful to sit through</td>\n",
       "      <td>Morejambo54</td>\n",
       "      <td>A sweet and sad story of hope. I really enjoye...</td>\n",
       "      <td>31 December 2020</td>\n",
       "    </tr>\n",
       "    <tr>\n",
       "      <th>147</th>\n",
       "      <td>Best of all time!!!</td>\n",
       "      <td>kysersoze-1</td>\n",
       "      <td>This is the best movie I have ever seen. In a ...</td>\n",
       "      <td>3 July 2010</td>\n",
       "    </tr>\n",
       "    <tr>\n",
       "      <th>148</th>\n",
       "      <td>The UNIVERSALITY OF SHAWSHANK: ANDY DESFRENE A...</td>\n",
       "      <td>Tony-Kiss-Castillo</td>\n",
       "      <td>WHAT is the highest rated movie in the history...</td>\n",
       "      <td>29 February 2024</td>\n",
       "    </tr>\n",
       "  </tbody>\n",
       "</table>\n",
       "<p>149 rows × 4 columns</p>\n",
       "</div>"
      ],
      "text/plain": [
       "                                                titles               users  \\\n",
       "0                 Some birds aren't meant to be caged.  hitchcockthelegend   \n",
       "1        An incredible movie. One that lives with you.      Sleepin_Dragon   \n",
       "2                                Don't Rent Shawshank.            EyeDunno   \n",
       "3        A classic piece of unforgettable film-making.            kaspen12   \n",
       "4                    This is How Movies Should Be Made    alexkolokotronis   \n",
       "..                                                 ...                 ...   \n",
       "144                       A Sort of Secular Redemption      JamesHitchcock   \n",
       "145                                    Beautiful movie       Calicodreamin   \n",
       "146                          Delightful to sit through         Morejambo54   \n",
       "147                                Best of all time!!!         kysersoze-1   \n",
       "148  The UNIVERSALITY OF SHAWSHANK: ANDY DESFRENE A...  Tony-Kiss-Castillo   \n",
       "\n",
       "                                          descriptions             dates  \n",
       "0    The Shawshank Redemption is written and direct...      24 July 2010  \n",
       "1    It is no wonder that the film has such a high ...  17 February 2021  \n",
       "2    I'm trying to save you money; this is the last...  21 November 2005  \n",
       "3    In its Oscar year, Shawshank Redemption (writt...  10 February 2006  \n",
       "4    This movie is not your ordinary Hollywood flic...  18 February 2008  \n",
       "..                                                 ...               ...  \n",
       "144  The story of this film takes place over a twen...     13 March 2009  \n",
       "145  Quite deserving of such acclaim, the acting is...      5 March 2020  \n",
       "146  A sweet and sad story of hope. I really enjoye...  31 December 2020  \n",
       "147  This is the best movie I have ever seen. In a ...       3 July 2010  \n",
       "148  WHAT is the highest rated movie in the history...  29 February 2024  \n",
       "\n",
       "[149 rows x 4 columns]"
      ]
     },
     "execution_count": 31,
     "metadata": {},
     "output_type": "execute_result"
    }
   ],
   "source": [
    "Data = pd.DataFrame({'titles': titles, 'users': users, 'descriptions': descriptions, 'dates':dates})\n",
    "Data"
   ]
  },
  {
   "cell_type": "code",
   "execution_count": 32,
   "metadata": {},
   "outputs": [],
   "source": [
    "Data.to_csv('Reviews_list.csv')"
   ]
  },
  {
   "cell_type": "code",
   "execution_count": null,
   "metadata": {},
   "outputs": [],
   "source": []
  }
 ],
 "metadata": {
  "kernelspec": {
   "display_name": "myenv",
   "language": "python",
   "name": "python3"
  },
  "language_info": {
   "codemirror_mode": {
    "name": "ipython",
    "version": 3
   },
   "file_extension": ".py",
   "mimetype": "text/x-python",
   "name": "python",
   "nbconvert_exporter": "python",
   "pygments_lexer": "ipython3",
   "version": "3.12.4"
  }
 },
 "nbformat": 4,
 "nbformat_minor": 2
}
