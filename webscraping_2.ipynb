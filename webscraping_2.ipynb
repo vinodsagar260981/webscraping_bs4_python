{
 "cells": [
  {
   "cell_type": "code",
   "execution_count": 1,
   "id": "051165af-0602-46d9-a156-ce4ebe0f3195",
   "metadata": {},
   "outputs": [],
   "source": [
    "from bs4 import BeautifulSoup\n",
    "import requests\n",
    "import pandas as pd"
   ]
  },
  {
   "cell_type": "code",
   "execution_count": 63,
   "id": "9711d3a0-f61f-4243-97a6-4e7e076b5127",
   "metadata": {},
   "outputs": [],
   "source": [
    "\n",
    "# url = \"https://www.scrapethissite.com/pages/forms/?page_num=1&per_page=100\"\n",
    "# page = requests.get(url)\n",
    "# soup = BeautifulSoup(page.text, 'html')\n",
    "# table_col = soup.find_all('th')\n",
    "# table_col_name = [name.text.strip() for name in table_col]\n",
    "    \n",
    "# df = pd.DataFrame(columns = table_col_name)\n",
    "\n",
    "# table_data= soup.find_all('tr')\n",
    "    \n",
    "# for data in table_data[1:]:\n",
    "#     table_data_individual = data.find_all('td')\n",
    "#     table_data_individual_row = [rowdata.text.strip() for rowdata in table_data_individual]\n",
    "#     # print(table_data_individual_row)\n",
    "#     length = len(df)\n",
    "#     df.loc[length] = table_data_individual_row\n",
    "# df.to_csv('D:\\Development\\HP_Development\\web_scraping\\scraping.csv')"
   ]
  },
  {
   "cell_type": "code",
   "execution_count": 35,
   "id": "954b9c8f-fe61-4cab-8e30-7e94bb2fdb1c",
   "metadata": {},
   "outputs": [],
   "source": [
    "table_data_individual_row =[]\n",
    "def scarping_url(i):\n",
    "    url = f\"https://www.scrapethissite.com/pages/forms/?page_num={i}&per_page=100\"\n",
    "    page = requests.get(url)\n",
    "    soup = BeautifulSoup(page.text, 'html')\n",
    "    table_col = soup.find_all('th')\n",
    "    table_col_name = [name.text.strip() for name in table_col]\n",
    "    \n",
    "    df = pd.DataFrame(columns = table_col_name)\n",
    "\n",
    "    table_data= soup.find_all('tr')\n",
    "\n",
    "    \n",
    "    for data in table_data[1:]:\n",
    "        table_data_individual = data.find_all('td')\n",
    "        table_data_individual_row = [rowdata.text.strip() for rowdata in table_data_individual]\n",
    "        length = len(df)\n",
    "        df.loc[length] = table_data_individual_row\n",
    "        if i == 1:\n",
    "            df.to_csv('D:\\Development\\HP_Development\\web_scraping\\scraping.csv')\n",
    "        elif i == 2:\n",
    "            df.to_csv('D:\\Development\\HP_Development\\web_scraping\\scraping2.csv')\n",
    "        elif i == 3:\n",
    "            df.to_csv('D:\\Development\\HP_Development\\web_scraping\\scraping3.csv')\n",
    "        elif i == 4:\n",
    "            df.to_csv('D:\\Development\\HP_Development\\web_scraping\\scraping4.csv')\n",
    "        elif i == 5:\n",
    "            df.to_csv('D:\\Development\\HP_Development\\web_scraping\\scraping5.csv')\n",
    "        elif i == 6:\n",
    "            df.to_csv('D:\\Development\\HP_Development\\web_scraping\\scraping6.csv')\n",
    "        else:\n",
    "            break\n",
    "\n",
    "\n",
    "for i in range(1, 7):\n",
    "    scarping_url(i)"
   ]
  },
  {
   "cell_type": "code",
   "execution_count": 52,
   "id": "100c5470-f309-44d2-89ad-d73b761d2f07",
   "metadata": {},
   "outputs": [],
   "source": [
    "import glob\n",
    "import os\n",
    "\n",
    "all_files = glob.glob('D:/Development/HP_Development/web_scraping/all/*.csv')\n",
    "\n",
    "list = []\n",
    "\n",
    "for data in all_files:\n",
    "    df = pd.read_csv(data, index_col = None, header=0)\n",
    "    list.append(df)\n",
    "\n",
    "file = pd.concat(list, axis=0, ignore_index=True)\n",
    "file.to_csv(\"D:/Development/HP_Development/web_scraping/all/complete_data.csv\")"
   ]
  },
  {
   "cell_type": "code",
   "execution_count": null,
   "id": "bd3c11e4-b135-4d2e-b1ff-f69fc8cc9d81",
   "metadata": {},
   "outputs": [],
   "source": []
  },
  {
   "cell_type": "code",
   "execution_count": null,
   "id": "1effcff8-651e-4eec-bacd-6e8fce3e47dc",
   "metadata": {},
   "outputs": [],
   "source": []
  }
 ],
 "metadata": {
  "kernelspec": {
   "display_name": "Python 3 (ipykernel)",
   "language": "python",
   "name": "python3"
  },
  "language_info": {
   "codemirror_mode": {
    "name": "ipython",
    "version": 3
   },
   "file_extension": ".py",
   "mimetype": "text/x-python",
   "name": "python",
   "nbconvert_exporter": "python",
   "pygments_lexer": "ipython3",
   "version": "3.11.7"
  }
 },
 "nbformat": 4,
 "nbformat_minor": 5
}
